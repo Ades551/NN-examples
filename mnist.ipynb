{
 "cells": [
  {
   "cell_type": "code",
   "execution_count": 38,
   "metadata": {},
   "outputs": [],
   "source": [
    "%matplotlib inline\n",
    "\n",
    "import torch\n",
    "import torch.nn as nn\n",
    "import torch.nn.functional as F\n",
    "import torch.optim as optim\n",
    "from torch.utils.data import DataLoader\n",
    "from torchvision import datasets, transforms\n",
    "from torchvision.transforms import ToTensor\n",
    "\n",
    "from torchsummary import summary\n",
    "import matplotlib.pyplot as plt"
   ]
  },
  {
   "cell_type": "code",
   "execution_count": 39,
   "metadata": {},
   "outputs": [],
   "source": [
    "device = torch.device(\"cuda\")"
   ]
  },
  {
   "cell_type": "code",
   "execution_count": 40,
   "metadata": {},
   "outputs": [],
   "source": [
    "class NN(nn.Module):\n",
    "\n",
    "    def __init__(self, input_size: int, num_classes: int):  # input size = 28x28 = 784 for mnist\n",
    "        super(NN, self).__init__()\n",
    "        self.fc1 = nn.Linear(input_size, 50)\n",
    "        self.fc2 = nn.Linear(50, num_classes)\n",
    "\n",
    "    def forward(self, x):\n",
    "        x = F.relu(self.fc1(x))\n",
    "        x = self.fc2(x)\n",
    "        return x"
   ]
  },
  {
   "cell_type": "code",
   "execution_count": 41,
   "metadata": {},
   "outputs": [],
   "source": [
    "NUM_PIXELS = 784 # 28x28\n",
    "BATCH_SIZE = 32\n",
    "NUM_CLASSES = 10 # 10 numbers: 0-9\n",
    "EPOCHS = 5"
   ]
  },
  {
   "cell_type": "code",
   "execution_count": 42,
   "metadata": {},
   "outputs": [],
   "source": [
    "transform = transforms.Compose([ToTensor(), transforms.Normalize((0.5,), (0.5,))])\n",
    "train_set = datasets.MNIST(root='./data', train=True, download=True, transform=transform)\n",
    "train_loader = DataLoader(train_set, batch_size=BATCH_SIZE, shuffle=True)"
   ]
  },
  {
   "cell_type": "code",
   "execution_count": 43,
   "metadata": {},
   "outputs": [],
   "source": [
    "# Hyperparameters\n",
    "input_size = NUM_PIXELS # 28x28 pixels\n",
    "learning_rate = 1e-3\n",
    "\n",
    "# Initialize Network\n",
    "model = NN(input_size=input_size, num_classes=NUM_CLASSES).to(device)\n",
    "\n",
    "# Loss and Optimizer\n",
    "criterion = nn.CrossEntropyLoss()\n",
    "optimizer = optim.Adam(model.parameters(), lr=learning_rate)"
   ]
  },
  {
   "cell_type": "code",
   "execution_count": 44,
   "metadata": {},
   "outputs": [
    {
     "name": "stdout",
     "output_type": "stream",
     "text": [
      "torch.Size([32, 784])\n",
      "Epoch: 1; Loss: 0.2730785310268402\n",
      "Epoch: 2; Loss: 0.3083855211734772\n",
      "Epoch: 3; Loss: 0.16895844042301178\n",
      "Epoch: 4; Loss: 0.17078272998332977\n",
      "Epoch: 5; Loss: 0.03409702330827713\n"
     ]
    }
   ],
   "source": [
    "# Train Network\n",
    "for epoch in range(EPOCHS):  \n",
    "# 1 epoch => Network has seen all the images in the dataset\n",
    "    for batch_idx, (data, targets) in enumerate(train_loader):\n",
    "\n",
    "        data = data.to(device=device)\n",
    "        targets = targets.to(device=device)\n",
    "\n",
    "        # print(data.shape)  # => [64 , 1, 28, 28] => 64 : num_images, 1 -> num_channels, (28,28): (height, width)\n",
    "        data = data.reshape(data.shape[0], -1)  # Flatten\n",
    "        if epoch == 0 and batch_idx == 0:\n",
    "            print(data.shape)\n",
    "\n",
    "        # forward\n",
    "        scores = model(data)\n",
    "\n",
    "        loss = criterion(scores, targets)\n",
    "\n",
    "        # backward\n",
    "        optimizer.zero_grad()  # set all gradients to zero for each batch\n",
    "        loss.backward()\n",
    "\n",
    "        # gradient descent\n",
    "        optimizer.step()\n",
    "\n",
    "    print(f\"Epoch: {epoch + 1}; Loss: {loss.item()}\")"
   ]
  },
  {
   "cell_type": "code",
   "execution_count": 45,
   "metadata": {},
   "outputs": [
    {
     "data": {
      "text/plain": [
       "torch.Size([1, 28, 28])"
      ]
     },
     "execution_count": 45,
     "metadata": {},
     "output_type": "execute_result"
    }
   ],
   "source": [
    "image, label = train_set[1]\n",
    "\n",
    "image.shape"
   ]
  },
  {
   "cell_type": "code",
   "execution_count": 46,
   "metadata": {},
   "outputs": [
    {
     "data": {
      "text/plain": [
       "torch.Size([1, 784])"
      ]
     },
     "execution_count": 46,
     "metadata": {},
     "output_type": "execute_result"
    }
   ],
   "source": [
    "nn_image = image.reshape(-1, NUM_PIXELS)\n",
    "nn_image.shape"
   ]
  },
  {
   "cell_type": "code",
   "execution_count": 47,
   "metadata": {},
   "outputs": [
    {
     "data": {
      "image/png": "[encoded data removed]",
      "text/plain": [
       "<Figure size 640x480 with 1 Axes>"
      ]
     },
     "metadata": {},
     "output_type": "display_data"
    }
   ],
   "source": [
    "model.eval()\n",
    "with torch.no_grad():  # dont compute gradients\n",
    "    plt.imshow(image.squeeze(), cmap='gray')\n",
    "    plt.title(f\"Actual: {label}, Predicted: {torch.argmax(model(nn_image.to(device))).item()}\")\n",
    "    plt.show()"
   ]
  },
  {
   "cell_type": "code",
   "execution_count": 48,
   "metadata": {},
   "outputs": [
    {
     "data": {
      "text/plain": [
       "=================================================================\n",
       "Layer (type:depth-idx)                   Param #\n",
       "=================================================================\n",
       "├─Linear: 1-1                            39,250\n",
       "├─Linear: 1-2                            510\n",
       "=================================================================\n",
       "Total params: 39,760\n",
       "Trainable params: 39,760\n",
       "Non-trainable params: 0\n",
       "================================================================="
      ]
     },
     "execution_count": 48,
     "metadata": {},
     "output_type": "execute_result"
    }
   ],
   "source": [
    "summary(model=model, input_size=(NUM_PIXELS,), batch_size=BATCH_SIZE, device=\"cpu\", verbose=0)"
   ]
  },
  {
   "cell_type": "markdown",
   "metadata": {},
   "source": [
    "## CNN - Convolutional Neural Network\n",
    "Type of neural network specifically designed for processing data with grid-like topology.\n",
    "\n",
    "### Basic Architecture\n",
    "A CNN consists of several key layers that work together to process images:\n",
    "\n",
    "- Convolutional Layers\n",
    "    - Process small regions of the input image\n",
    "    - Use filters (kernels) to detect features\n",
    "    - Stack multiple layers to capture complex patterns\n",
    "- Pooling Layers\n",
    "    - Reduce spatial dimensions of feature maps\n",
    "    - Help with feature extraction and computation efficiency\n",
    "    - Common types: Max Pooling and Average Pooling\n",
    "- Fully Connected Layers\n",
    "    - Process flattened features for classification\n",
    "    - Convert 2D/3D data into 1D for final predictions\n",
    "\n",
    "![CNN](img/convolution.gif)"
   ]
  },
  {
   "cell_type": "code",
   "execution_count": 49,
   "metadata": {},
   "outputs": [],
   "source": [
    "class CNN(nn.Module):\n",
    "    def __init__(self, num_classes: int = 10):\n",
    "        super(CNN, self).__init__()\n",
    "        \n",
    "        # Convolutional layers\n",
    "        self.conv1 = nn.Conv2d(in_channels=1, out_channels=32, kernel_size=(3, 3), padding=1)\n",
    "        self.conv2 = nn.Conv2d(in_channels=32, out_channels=64, kernel_size=(3, 3), padding=1)\n",
    "\n",
    "        # Average pooling layers\n",
    "        self.avg_pool = nn.AvgPool2d(kernel_size=(2, 2))\n",
    "        \n",
    "        # Fully connected layers\n",
    "        self.fc1 = nn.Linear(64*7*7, 128)  # 64*7*7 features after flattening\n",
    "        self.fc2 = nn.Linear(128, num_classes)\n",
    "\n",
    "    def forward(self, x):\n",
    "        # First convolutional block\n",
    "        x = F.relu(self.conv1(x))\n",
    "        x = self.avg_pool(x)\n",
    "\n",
    "        # Dropout\n",
    "        # x = F.dropout(x, p=0.5, training=self.training)\n",
    "        \n",
    "        # Second convolutional block\n",
    "        x = F.relu(self.conv2(x))\n",
    "        x = self.avg_pool(x)\n",
    "\n",
    "        # Third convolutional block\n",
    "        # x = F.relu(self.conv3(x))\n",
    "        # x = self.avg_pool(x)\n",
    "        \n",
    "        # Flatten\n",
    "        x = torch.flatten(x, 1)\n",
    "        \n",
    "        # Fully connected layers\n",
    "        x = F.relu(self.fc1(x))\n",
    "        x = self.fc2(x)\n",
    "        \n",
    "        return x"
   ]
  },
  {
   "cell_type": "code",
   "execution_count": 50,
   "metadata": {},
   "outputs": [],
   "source": [
    "# Hyperparameters\n",
    "learning_rate = 1e-3\n",
    "\n",
    "# Initialize Network\n",
    "model = CNN(num_classes=NUM_CLASSES).to(device)\n",
    "\n",
    "# Loss and Optimizer\n",
    "criterion = nn.CrossEntropyLoss()\n",
    "optimizer = optim.Adam(model.parameters(), lr=learning_rate)"
   ]
  },
  {
   "cell_type": "code",
   "execution_count": 51,
   "metadata": {},
   "outputs": [
    {
     "name": "stdout",
     "output_type": "stream",
     "text": [
      "torch.Size([32, 1, 28, 28])\n",
      "Epoch: 1; Loss: 0.00495145982131362\n",
      "Epoch: 2; Loss: 0.0023327255621552467\n",
      "Epoch: 3; Loss: 0.005998751614242792\n",
      "Epoch: 4; Loss: 0.009652737528085709\n",
      "Epoch: 5; Loss: 0.07264061272144318\n"
     ]
    }
   ],
   "source": [
    "# Train Network\n",
    "for epoch in range(EPOCHS):  \n",
    "# 1 epoch => Network has seen all the images in the dataset\n",
    "    for batch_idx, (data, targets) in enumerate(train_loader):\n",
    "\n",
    "        data = data.to(device=device)\n",
    "        targets = targets.to(device=device)\n",
    "\n",
    "        # print(data.shape)  # => [64 , 1, 28, 28] => 64 : num_images, 1 -> num_channels, (28,28): (height, width)\n",
    "        if epoch == 0 and batch_idx == 0:\n",
    "            print(data.shape)\n",
    "\n",
    "        # forward\n",
    "        scores = model(data)\n",
    "\n",
    "        loss = criterion(scores, targets)\n",
    "\n",
    "        # backward\n",
    "        optimizer.zero_grad()  # set all gradients to zero for each batch\n",
    "        loss.backward()\n",
    "\n",
    "        # gradient descent\n",
    "        optimizer.step()\n",
    "\n",
    "    print(f\"Epoch: {epoch + 1}; Loss: {loss.item()}\")"
   ]
  },
  {
   "cell_type": "code",
   "execution_count": 52,
   "metadata": {},
   "outputs": [
    {
     "data": {
      "text/plain": [
       "torch.Size([1, 1, 28, 28])"
      ]
     },
     "execution_count": 52,
     "metadata": {},
     "output_type": "execute_result"
    }
   ],
   "source": [
    "cnn_image = image.unsqueeze(0)\n",
    "cnn_image.shape"
   ]
  },
  {
   "cell_type": "code",
   "execution_count": 53,
   "metadata": {},
   "outputs": [
    {
     "data": {
      "image/png": "[encoded data removed]",
      "text/plain": [
       "<Figure size 640x480 with 1 Axes>"
      ]
     },
     "metadata": {},
     "output_type": "display_data"
    }
   ],
   "source": [
    "model.eval()\n",
    "with torch.no_grad():  # dont compute gradients\n",
    "    plt.imshow(image.squeeze(), cmap='gray')\n",
    "    plt.title(f\"Actual: {label}, Predicted: {torch.argmax(model(cnn_image.to(device)), dim=1).item()}\")\n",
    "    plt.show()"
   ]
  },
  {
   "cell_type": "code",
   "execution_count": 54,
   "metadata": {},
   "outputs": [
    {
     "data": {
      "text/plain": [
       "=================================================================\n",
       "Layer (type:depth-idx)                   Param #\n",
       "=================================================================\n",
       "├─Conv2d: 1-1                            320\n",
       "├─Conv2d: 1-2                            18,496\n",
       "├─AvgPool2d: 1-3                         --\n",
       "├─Linear: 1-4                            401,536\n",
       "├─Linear: 1-5                            1,290\n",
       "=================================================================\n",
       "Total params: 421,642\n",
       "Trainable params: 421,642\n",
       "Non-trainable params: 0\n",
       "================================================================="
      ]
     },
     "execution_count": 54,
     "metadata": {},
     "output_type": "execute_result"
    }
   ],
   "source": [
    "summary(model, input_size=(1, 28, 28), batch_size=BATCH_SIZE, device=\"cpu\", verbose=0)"
   ]
  }
 ],
 "metadata": {
  "kernelspec": {
   "display_name": ".venv",
   "language": "python",
   "name": "python3"
  },
  "language_info": {
   "codemirror_mode": {
    "name": "ipython",
    "version": 3
   },
   "file_extension": ".py",
   "mimetype": "text/x-python",
   "name": "python",
   "nbconvert_exporter": "python",
   "pygments_lexer": "ipython3",
   "version": "3.13.3"
  }
 },
 "nbformat": 4,
 "nbformat_minor": 2
}
