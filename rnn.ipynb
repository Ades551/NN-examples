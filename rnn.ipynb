{
 "cells": [
  {
   "cell_type": "code",
   "execution_count": 3,
   "metadata": {},
   "outputs": [],
   "source": [
    "import torch\n",
    "import torch.nn as nn\n",
    "import torch.optim as optim\n",
    "import numpy as np\n",
    "from torch.utils.data import Dataset, DataLoader\n",
    "from collections import Counter\n",
    "import random"
   ]
  },
  {
   "cell_type": "code",
   "execution_count": 4,
   "metadata": {},
   "outputs": [
    {
     "name": "stdout",
     "output_type": "stream",
     "text": [
      "['in', 'the', 'beginning', 'god', 'created', 'the', 'heavens', 'and', 'the', 'earth.', 'and', 'the', 'earth', 'was', 'without', 'form,', 'and', 'void;', 'and', 'darkness', 'was', 'upon', 'the', 'face', 'of', 'the', 'deep.', 'and', 'the', 'spirit', 'of', 'god', 'moved', 'upon', 'the', 'face', 'of', 'the', 'waters.', 'and', 'god', 'said,', 'let', 'there', 'be', 'light:', 'and', 'there', 'was', 'light.']\n"
     ]
    }
   ],
   "source": [
    "# Sample text data\n",
    "text = \"\"\"In the beginning God created the heavens and the earth.\n",
    "And the earth was without form, and void; and darkness was upon the face of the deep.\n",
    "And the Spirit of God moved upon the face of the waters.\n",
    "And God said, Let there be light: and there was light.\"\"\"\n",
    "\n",
    "# Create a function to preprocess the text\n",
    "def preprocess_text(text):\n",
    "    text = text.lower()\n",
    "    words = text.split()\n",
    "    return words\n",
    "\n",
    "# Preprocess the data\n",
    "words = preprocess_text(text)\n",
    "print(words)"
   ]
  },
  {
   "cell_type": "code",
   "execution_count": 5,
   "metadata": {},
   "outputs": [],
   "source": [
    "# Create a vocabulary\n",
    "word_counts = Counter(words)\n",
    "vocab = sorted(word_counts, key=word_counts.get, reverse=True)\n",
    "vocab_size = len(vocab)\n",
    "\n",
    "# Create a mapping from words to indices\n",
    "word_to_index = {word: i for i, word in enumerate(vocab)}\n",
    "index_to_word = {i: word for i, word in enumerate(vocab)}"
   ]
  },
  {
   "cell_type": "code",
   "execution_count": 6,
   "metadata": {},
   "outputs": [],
   "source": [
    "# Hyperparameters\n",
    "seq_length = 5\n",
    "n_samples = len(words) - seq_length\n",
    "\n",
    "# Create input and target sequences\n",
    "input_sequences = []\n",
    "target_words = []\n",
    "\n",
    "for i in range(n_samples):\n",
    "    input_seq = words[i:i + seq_length]\n",
    "    target_word = words[i + seq_length]\n",
    "    input_sequences.append([word_to_index[w] for w in input_seq])\n",
    "    target_words.append(word_to_index[target_word])\n",
    "\n",
    "# Convert to numpy arrays\n",
    "input_sequences = np.array(input_sequences)\n",
    "target_words = np.array(target_words)"
   ]
  },
  {
   "cell_type": "code",
   "execution_count": 7,
   "metadata": {},
   "outputs": [],
   "source": [
    "class TextDataset(Dataset):\n",
    "    def __init__(self, inputs, targets):\n",
    "        self.inputs = inputs\n",
    "        self.targets = targets\n",
    "\n",
    "    def __len__(self):\n",
    "        return len(self.inputs)\n",
    "\n",
    "    def __getitem__(self, idx):\n",
    "        return torch.tensor(self.inputs[idx], dtype=torch.long), torch.tensor(self.targets[idx], dtype=torch.long)\n",
    "\n",
    "# Create dataset and dataloader\n",
    "dataset = TextDataset(input_sequences, target_words)\n",
    "dataloader = DataLoader(dataset, batch_size=2, shuffle=True)"
   ]
  },
  {
   "cell_type": "code",
   "execution_count": 8,
   "metadata": {},
   "outputs": [],
   "source": [
    "class RNNTextGenerator(nn.Module):\n",
    "    def __init__(self, vocab_size, embedding_dim, hidden_dim):\n",
    "        super(RNNTextGenerator, self).__init__()\n",
    "        self.embeddings = nn.Embedding(vocab_size, embedding_dim)\n",
    "        self.rnn = nn.RNN(embedding_dim, hidden_dim, batch_first=True)\n",
    "        self.fc = nn.Linear(hidden_dim, vocab_size)\n",
    "\n",
    "    def forward(self, x):\n",
    "        x = self.embeddings(x)\n",
    "        rnn_out, _ = self.rnn(x)\n",
    "        logits = self.fc(rnn_out[:, -1, :])  # Take the last output for prediction\n",
    "        return logits"
   ]
  },
  {
   "cell_type": "code",
   "execution_count": 9,
   "metadata": {},
   "outputs": [
    {
     "name": "stdout",
     "output_type": "stream",
     "text": [
      "Epoch [10/100], Loss: 2.4661\n",
      "Epoch [20/100], Loss: 1.8597\n",
      "Epoch [30/100], Loss: 2.3912\n",
      "Epoch [40/100], Loss: 1.1995\n",
      "Epoch [50/100], Loss: 2.1404\n",
      "Epoch [60/100], Loss: 1.9005\n",
      "Epoch [70/100], Loss: 0.8989\n",
      "Epoch [80/100], Loss: 0.4906\n",
      "Epoch [90/100], Loss: 0.6231\n",
      "Epoch [100/100], Loss: 1.7548\n"
     ]
    }
   ],
   "source": [
    "# Hyperparameters\n",
    "embedding_dim = 10\n",
    "hidden_dim = 10\n",
    "num_epochs = 100\n",
    "learning_rate = 0.001\n",
    "\n",
    "# Initialize the model, loss function, and optimizer\n",
    "model = RNNTextGenerator(vocab_size, embedding_dim, hidden_dim)\n",
    "criterion = nn.CrossEntropyLoss()\n",
    "optimizer = optim.Adam(model.parameters(), lr=learning_rate)\n",
    "\n",
    "# Training loop\n",
    "for epoch in range(num_epochs):\n",
    "    for inputs, targets in dataloader:\n",
    "        optimizer.zero_grad()\n",
    "        outputs = model(inputs)\n",
    "        loss = criterion(outputs, targets)\n",
    "        loss.backward()\n",
    "        optimizer.step()\n",
    "\n",
    "    if (epoch + 1) % 10 == 0:\n",
    "        print(f'Epoch [{epoch + 1}/{num_epochs}], Loss: {loss.item():.4f}')"
   ]
  },
  {
   "cell_type": "code",
   "execution_count": null,
   "metadata": {},
   "outputs": [
    {
     "ename": "KeyError",
     "evalue": "'said'",
     "output_type": "error",
     "traceback": [
      "\u001b[31m---------------------------------------------------------------------------\u001b[39m",
      "\u001b[31mKeyError\u001b[39m                                  Traceback (most recent call last)",
      "\u001b[36mCell\u001b[39m\u001b[36m \u001b[39m\u001b[32mIn[10]\u001b[39m\u001b[32m, line 20\u001b[39m\n\u001b[32m     18\u001b[39m \u001b[38;5;66;03m# Generate text\u001b[39;00m\n\u001b[32m     19\u001b[39m start_text = \u001b[33m\"\u001b[39m\u001b[33mand god said\u001b[39m\u001b[33m\"\u001b[39m\n\u001b[32m---> \u001b[39m\u001b[32m20\u001b[39m generated_text = \u001b[43mgenerate_text\u001b[49m\u001b[43m(\u001b[49m\u001b[43mmodel\u001b[49m\u001b[43m,\u001b[49m\u001b[43m \u001b[49m\u001b[43mstart_text\u001b[49m\u001b[43m,\u001b[49m\u001b[43m \u001b[49m\u001b[43mgeneration_length\u001b[49m\u001b[43m=\u001b[49m\u001b[32;43m10\u001b[39;49m\u001b[43m)\u001b[49m\n\u001b[32m     21\u001b[39m \u001b[38;5;28mprint\u001b[39m(\u001b[33mf\u001b[39m\u001b[33m'\u001b[39m\u001b[33mGenerated text: \u001b[39m\u001b[38;5;132;01m{\u001b[39;00mgenerated_text\u001b[38;5;132;01m}\u001b[39;00m\u001b[33m'\u001b[39m)\n",
      "\u001b[36mCell\u001b[39m\u001b[36m \u001b[39m\u001b[32mIn[10]\u001b[39m\u001b[32m, line 6\u001b[39m, in \u001b[36mgenerate_text\u001b[39m\u001b[34m(model, start_text, generation_length)\u001b[39m\n\u001b[32m      3\u001b[39m generated = start_text.split()\n\u001b[32m      5\u001b[39m \u001b[38;5;28;01mfor\u001b[39;00m _ \u001b[38;5;129;01min\u001b[39;00m \u001b[38;5;28mrange\u001b[39m(generation_length):\n\u001b[32m----> \u001b[39m\u001b[32m6\u001b[39m     input_seq = [\u001b[43mword_to_index\u001b[49m\u001b[43m[\u001b[49m\u001b[43mword\u001b[49m\u001b[43m]\u001b[49m \u001b[38;5;28;01mfor\u001b[39;00m word \u001b[38;5;129;01min\u001b[39;00m generated[-seq_length:]]\n\u001b[32m      7\u001b[39m     input_tensor = torch.tensor(input_seq, dtype=torch.long).unsqueeze(\u001b[32m0\u001b[39m)  \u001b[38;5;66;03m# Add batch dimension\u001b[39;00m\n\u001b[32m      8\u001b[39m     \u001b[38;5;28;01mwith\u001b[39;00m torch.no_grad():\n",
      "\u001b[31mKeyError\u001b[39m: 'said'"
     ]
    }
   ],
   "source": [
    "def generate_text(model, start_text, generation_length):\n",
    "    model.eval()  # Set the model to evaluation mode\n",
    "    generated = start_text.split()\n",
    "    \n",
    "    for _ in range(generation_length):\n",
    "        input_seq = [word_to_index[word] for word in generated[-seq_length:]]\n",
    "        input_tensor = torch.tensor(input_seq, dtype=torch.long).unsqueeze(0)  # Add batch dimension\n",
    "        with torch.no_grad():\n",
    "            output = model(input_tensor)\n",
    "        \n",
    "        # Get the predicted word index\n",
    "        predicted_idx = torch.argmax(output, dim=1).item()\n",
    "        predicted_word = index_to_word[predicted_idx]\n",
    "        generated.append(predicted_word)\n",
    "    \n",
    "    return ' '.join(generated)\n",
    "\n",
    "# Generate text\n",
    "start_text = \"and darkness was\"\n",
    "generated_text = generate_text(model, start_text, generation_length=10)\n",
    "print(f'Generated text: {generated_text}')"
   ]
  }
 ],
 "metadata": {
  "kernelspec": {
   "display_name": ".venv",
   "language": "python",
   "name": "python3"
  },
  "language_info": {
   "codemirror_mode": {
    "name": "ipython",
    "version": 3
   },
   "file_extension": ".py",
   "mimetype": "text/x-python",
   "name": "python",
   "nbconvert_exporter": "python",
   "pygments_lexer": "ipython3",
   "version": "3.13.2"
  }
 },
 "nbformat": 4,
 "nbformat_minor": 2
}
